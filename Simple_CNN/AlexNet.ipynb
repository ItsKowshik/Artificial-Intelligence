{
 "cells": [
  {
   "cell_type": "markdown",
   "metadata": {},
   "source": [
    "### D2L implementation of ALexnet"
   ]
  },
  {
   "cell_type": "code",
   "execution_count": null,
   "metadata": {},
   "outputs": [],
   "source": [
    "import numpy as np \n",
    "import matplotlib.pyplot as plt\n",
    "import torch\n",
    "from torch import nn\n",
    "from d2l import torch as d2l"
   ]
  },
  {
   "cell_type": "code",
   "execution_count": null,
   "metadata": {},
   "outputs": [],
   "source": [
    "class AlexNet(d2l.Classifier):\n",
    "    def  __init__(self, lr=0.1, num_classes = 10):\n",
    "        super().__init__()\n",
    "        self.save_hyperparameters()\n",
    "        self.net = nn.Sequential(\n",
    "            nn.LazyConv2d(96,kernel_size=11,stride=4,padding=1),\n",
    "            nn.ReLU(), nn.MaxPool2d(kernel_size=3,stride=2),\n",
    "            nn.LazyConv2d(256,kernel_size=5,padding=2),nn.ReLU(),\n",
    "            nn.MaxPool2d(kernel_size=3,stride=2),\n",
    "            nn.LazyConv2d(384,kernel_size=3,padding=1), nn.ReLU(),\n",
    "            nn.LazyConv2d(384,kernel_size=3,padding=1), nn.ReLU(),\n",
    "            nn.LazyConv2d(256,kernel_size=3,padding=1), nn.ReLU(),\n",
    "            nn.MaxPool2d(kernel_size=3,stride=2), nn.Flatten(),\n",
    "            nn.LazyLinear(4096), nn.ReLU(), nn.Dropout(p=0.5),\n",
    "            nn.LazyLinear(4096), nn.ReLU(), nn.Dropout(p=0.5),\n",
    "            nn.LazyLinear(num_classes)\n",
    "        )\n",
    "        self.net.apply(d2l.init_cnn)"
   ]
  },
  {
   "cell_type": "code",
   "execution_count": null,
   "metadata": {},
   "outputs": [],
   "source": [
    "AlexNet().layer_summary((1,1,224,224))"
   ]
  },
  {
   "cell_type": "code",
   "execution_count": null,
   "metadata": {},
   "outputs": [],
   "source": [
    "model = AlexNet(lr=0.01)\n",
    "data = d2l.FashionMNIST(batch_size=128,resize=(224,224))\n",
    "trainer = d2l.Trainer(max_epochs=10)\n",
    "trainer.fit(model,data)"
   ]
  },
  {
   "cell_type": "code",
   "execution_count": null,
   "metadata": {},
   "outputs": [],
   "source": []
  }
 ],
 "metadata": {
  "kernelspec": {
   "display_name": "firstenv",
   "language": "python",
   "name": "firstenv"
  },
  "language_info": {
   "codemirror_mode": {
    "name": "ipython",
    "version": 3
   },
   "file_extension": ".py",
   "mimetype": "text/x-python",
   "name": "python",
   "nbconvert_exporter": "python",
   "pygments_lexer": "ipython3",
   "version": "3.11.5"
  }
 },
 "nbformat": 4,
 "nbformat_minor": 2
}
